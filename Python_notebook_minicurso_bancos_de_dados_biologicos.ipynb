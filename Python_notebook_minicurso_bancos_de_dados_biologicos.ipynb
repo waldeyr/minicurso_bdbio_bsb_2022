{
  "nbformat": 4,
  "nbformat_minor": 0,
  "metadata": {
    "colab": {
      "provenance": [],
      "collapsed_sections": []
    },
    "kernelspec": {
      "name": "python3",
      "display_name": "Python 3"
    },
    "language_info": {
      "name": "python"
    }
  },
  "cells": [
    {
      "cell_type": "markdown",
      "source": [
        "## Instalando biopython"
      ],
      "metadata": {
        "id": "_z8lpsocnFNq"
      }
    },
    {
      "cell_type": "code",
      "execution_count": 11,
      "metadata": {
        "colab": {
          "base_uri": "https://localhost:8080/"
        },
        "id": "gBosIpY2mjNE",
        "outputId": "3fc780eb-6cb0-4108-adf6-163e09330516"
      },
      "outputs": [
        {
          "output_type": "stream",
          "name": "stdout",
          "text": [
            "Looking in indexes: https://pypi.org/simple, https://us-python.pkg.dev/colab-wheels/public/simple/\n",
            "Requirement already satisfied: biopython in /usr/local/lib/python3.7/dist-packages (1.79)\n",
            "Requirement already satisfied: numpy in /usr/local/lib/python3.7/dist-packages (from biopython) (1.21.6)\n"
          ]
        }
      ],
      "source": [
        "! pip install biopython"
      ]
    },
    {
      "cell_type": "markdown",
      "source": [
        "## Coletando dados de enzimas com um dado EC"
      ],
      "metadata": {
        "id": "JG_lglQmnK13"
      }
    },
    {
      "cell_type": "code",
      "source": [
        "from Bio.KEGG import REST\n",
        "from Bio.KEGG import Enzyme\n",
        "request = REST.kegg_get(\"ec:2.7.7.9\")\n",
        "open(\"ec_2.7.7.9.txt\", \"w\").write(request.read())\n",
        "records = Enzyme.parse(open(\"ec_2.7.7.9.txt\"))\n",
        "record = list(records)[0]\n",
        "print(record.classname)\n",
        "print(record.entry)"
      ],
      "metadata": {
        "colab": {
          "base_uri": "https://localhost:8080/"
        },
        "id": "LtJa4X3QmssU",
        "outputId": "1562ea17-659f-466f-bcf4-b5b2892635ec"
      },
      "execution_count": null,
      "outputs": [
        {
          "output_type": "stream",
          "name": "stdout",
          "text": [
            "['Transferases;', 'Transferring phosphorus-containing groups;', 'Nucleotidyltransferases']\n",
            "2.7.7.9\n"
          ]
        }
      ]
    },
    {
      "cell_type": "markdown",
      "source": [
        "## Obter todos os genes relacionados com a via metabólica de'vitamina C"
      ],
      "metadata": {
        "id": "bj35NhyGnBoH"
      }
    },
    {
      "cell_type": "code",
      "source": [
        "from Bio.KEGG import REST\n",
        "\n",
        "human_pathways = REST.kegg_list(\"pathway\", \"hsa\").read()\n",
        "\n",
        "# Filtar para humanos, Ascorbate\n",
        "Ascorbate_pathways = []\n",
        "for line in human_pathways.rstrip().split(\"\\n\"):\n",
        "    entry, description = line.split(\"\\t\")\n",
        "    if \"Ascorbate\" in description:\n",
        "        Ascorbate_pathways.append(entry)\n",
        "\n",
        "# Pegar genes da via de Ascorbate e adicionar em uma lista\n",
        "Ascorbate_genes = [] \n",
        "for pathway in Ascorbate_pathways:\n",
        "    pathway_file = REST.kegg_get(pathway).read()  # for each pathway\n",
        "\n",
        "    # Percorrer o pathway\n",
        "    current_section = None\n",
        "    for line in pathway_file.rstrip().split(\"\\n\"):\n",
        "        section = line[:12].strip()  # nomes na 12a coluna\n",
        "        if not section == \"\":\n",
        "            current_section = section\n",
        "        \n",
        "        if current_section == \"GENE\":\n",
        "            gene_identifiers, gene_description = line[12:].split(\"; \")\n",
        "            gene_id, gene_symbol = gene_identifiers.split()\n",
        "\n",
        "            if not gene_symbol in Ascorbate_genes:\n",
        "                Ascorbate_genes.append(gene_symbol)\n",
        "\n",
        "print(\"Existe(m) %d vias de Ascorbate e %d genes relacionados:\" % \\\n",
        "      (len(Ascorbate_pathways), len(Ascorbate_genes)))\n",
        "print(\", \".join(Ascorbate_genes)) "
      ],
      "metadata": {
        "colab": {
          "base_uri": "https://localhost:8080/"
        },
        "id": "45lDlCftm-pU",
        "outputId": "77745031-8d11-43e2-add3-610d951f2072"
      },
      "execution_count": null,
      "outputs": [
        {
          "output_type": "stream",
          "name": "stdout",
          "text": [
            "Existe(m) 1 vias de Ascorbate e 30 genes relacionados.\\ OS genes são:\n",
            "UGDH, UGT2A1, UGT2A3, UGT2B17, UGT2B11, UGT2B28, UGT1A6, UGT1A4, UGT1A1, UGT1A3, UGT2B10, UGT1A9, UGT2B7, UGT1A10, UGT1A8, UGT1A5, UGT2B15, UGT1A7, UGT2B4, UGT2A2, GUSB, KL, MIOX, AKR1A1, RGN, ALDH2, ALDH3A2, ALDH1B1, ALDH7A1, ALDH9A1\n"
          ]
        }
      ]
    },
    {
      "cell_type": "code",
      "source": [
        "from Bio import Entrez\n",
        "Entrez.email = \"email@example.com\"     # Always tell NCBI who you are\n",
        "handle = Entrez.esearch(db=\"gene\", term=\"human[Orgn] AND UGT2A1[Gene]\", idtype=\"acc\", retmax=\"1\") \n",
        "record = Entrez.read(handle)\n",
        "if int(record['Count']) > 0:\n",
        "    print(f\"ID: {record['IdList'][0]}\")\n",
        "    id = record['IdList'][0]"
      ],
      "metadata": {
        "colab": {
          "base_uri": "https://localhost:8080/"
        },
        "id": "p6QwciYusFmk",
        "outputId": "89723180-a13d-45b0-fe7e-a56d43586197"
      },
      "execution_count": 70,
      "outputs": [
        {
          "output_type": "stream",
          "name": "stdout",
          "text": [
            "ID: 10941\n"
          ]
        }
      ]
    },
    {
      "cell_type": "markdown",
      "source": [
        "## Obter sequência de um dos genes da enzima UTP---glucose-1-phosphate uridylyltransferase (UGT2A1)\n"
      ],
      "metadata": {
        "id": "XaR6WF1Unf82"
      }
    },
    {
      "cell_type": "code",
      "source": [
        "# Combinacoes possiveis de rettype  retmode\n",
        "# https://www.ncbi.nlm.nih.gov/books/NBK25499/table/chapter4.T._valid_values_of__retmode_and/?report=objectonly\n",
        "base = \"https://eutils.ncbi.nlm.nih.gov/entrez/eutils/efetch.fcgi?\"\n",
        "banco = \"db=gene&\"\n",
        "id_sequencia = f\"id={id}&\"\n",
        "rettype = \"rettype=gene_table&\"\n",
        "retmode = \"retmode=text\" \n",
        "url = base+banco+id_sequencia+rettype+retmode\n",
        "print(url)\n",
        "import requests\n",
        "seq = requests.get(url)\n",
        "print(seq.text)"
      ],
      "metadata": {
        "colab": {
          "base_uri": "https://localhost:8080/"
        },
        "id": "QkcZ6Ch_w4f1",
        "outputId": "3388b5b5-0a7e-456b-fa7c-3e1111eae7f3"
      },
      "execution_count": 89,
      "outputs": [
        {
          "output_type": "stream",
          "name": "stdout",
          "text": [
            "https://eutils.ncbi.nlm.nih.gov/entrez/eutils/efetch.fcgi?db=gene&id=10941&rettype=gene_table&retmode=text\n",
            "UGT2A1 UDP glucuronosyltransferase family 2 member A1 complex locus[Homo sapiens]\n",
            "Gene ID: 10941, updated on 13-May-2022\n",
            "\n",
            "\n",
            "Reference GRCh38.p14 Primary Assembly NC_000004.12  (minus strand) from: 69653247 to: 69588417\n",
            "mRNA transcript variant 4 NM_001301239.2, 6 exons,  total annotated spliced exon length: 2521\n",
            "protein isoform 4 precursor NP_001288168.1 (CCDS77925.1), 5 coding  exons,  annotated AA length: 483\n",
            "\n",
            "Exon table for  mRNA  NM_001301239.2 and protein NP_001288168.1\n",
            "Genomic Interval Exon\t\tGenomic Interval Coding\t\tGene Interval Exon\t\tGene Interval Coding\t\tExon Length\tCoding Length\tIntron Length\n",
            "------------------------------------------------------------------------------------------------------------------------------------------------------------------------------\n",
            "69653247-69653188\t\t1-60\t\t60\t\t5489\n",
            "69647698-69646930\t\t69647644-69646930\t\t5550-6318\t\t5604-6318\t\t769\t\t715\t\t47535\n",
            "69599394-69599246\t\t69599394-69599246\t\t53854-54002\t\t53854-54002\t\t149\t\t149\t\t3996\n",
            "69595249-69595162\t\t69595249-69595162\t\t57999-58086\t\t57999-58086\t\t88\t\t88\t\t465\n",
            "69594696-69594477\t\t69594696-69594477\t\t58552-58771\t\t58552-58771\t\t220\t\t220\t\t4825\n",
            "69589651-69588417\t\t69589651-69589372\t\t63597-64831\t\t63597-63876\t\t1235\t\t280\n",
            "\n",
            "mRNA transcript variant 1 NM_006798.5, 7 exons,  total annotated spliced exon length: 2653\n",
            "protein isoform 1 precursor NP_006789.3 (CCDS3529.1), 6 coding  exons,  annotated AA length: 527\n",
            "\n",
            "Exon table for  mRNA  NM_006798.5 and protein NP_006789.3\n",
            "Genomic Interval Exon\t\tGenomic Interval Coding\t\tGene Interval Exon\t\tGene Interval Coding\t\tExon Length\tCoding Length\tIntron Length\n",
            "------------------------------------------------------------------------------------------------------------------------------------------------------------------------------\n",
            "69653247-69653188\t\t1-60\t\t60\t\t5489\n",
            "69647698-69646930\t\t69647644-69646930\t\t5550-6318\t\t5604-6318\t\t769\t\t715\t\t47535\n",
            "69599394-69599246\t\t69599394-69599246\t\t53854-54002\t\t53854-54002\t\t149\t\t149\t\t2864\n",
            "69596381-69596250\t\t69596381-69596250\t\t56867-56998\t\t56867-56998\t\t132\t\t132\t\t1000\n",
            "69595249-69595162\t\t69595249-69595162\t\t57999-58086\t\t57999-58086\t\t88\t\t88\t\t465\n",
            "69594696-69594477\t\t69594696-69594477\t\t58552-58771\t\t58552-58771\t\t220\t\t220\t\t4825\n",
            "69589651-69588417\t\t69589651-69589372\t\t63597-64831\t\t63597-63876\t\t1235\t\t280\n",
            "\n",
            "mRNA transcript variant 3 NM_001252275.3, 7 exons,  total annotated spliced exon length: 2653\n",
            "protein isoform 3 precursor NP_001239204.2 (CCDS58901.1), 6 coding  exons,  annotated AA length: 527\n",
            "\n",
            "Exon table for  mRNA  NM_001252275.3 and protein NP_001239204.2\n",
            "Genomic Interval Exon\t\tGenomic Interval Coding\t\tGene Interval Exon\t\tGene Interval Coding\t\tExon Length\tCoding Length\tIntron Length\n",
            "------------------------------------------------------------------------------------------------------------------------------------------------------------------------------\n",
            "69653247-69653188\t\t1-60\t\t60\t\t5489\n",
            "69647698-69646930\t\t69647644-69646930\t\t5550-6318\t\t5604-6318\t\t769\t\t715\t\t11107\n",
            "69635822-69635691\t\t69635822-69635691\t\t17426-17557\t\t17426-17557\t\t132\t\t132\t\t36296\n",
            "69599394-69599246\t\t69599394-69599246\t\t53854-54002\t\t53854-54002\t\t149\t\t149\t\t3996\n",
            "69595249-69595162\t\t69595249-69595162\t\t57999-58086\t\t57999-58086\t\t88\t\t88\t\t465\n",
            "69594696-69594477\t\t69594696-69594477\t\t58552-58771\t\t58552-58771\t\t220\t\t220\t\t4825\n",
            "69589651-69588417\t\t69589651-69589372\t\t63597-64831\t\t63597-63876\t\t1235\t\t280\n",
            "\n",
            "mRNA transcript variant 2 NM_001252274.3, 7 exons,  total annotated spliced exon length: 3151\n",
            "protein isoform 2 precursor NP_001239203.2 (CCDS58902.1), 6 coding  exons,  annotated AA length: 693\n",
            "\n",
            "Exon table for  mRNA  NM_001252274.3 and protein NP_001239203.2\n",
            "Genomic Interval Exon\t\tGenomic Interval Coding\t\tGene Interval Exon\t\tGene Interval Coding\t\tExon Length\tCoding Length\tIntron Length\n",
            "------------------------------------------------------------------------------------------------------------------------------------------------------------------------------\n",
            "69653247-69653188\t\t1-60\t\t60\t\t5489\n",
            "69647698-69646930\t\t69647644-69646930\t\t5550-6318\t\t5604-6318\t\t769\t\t715\t\t7401\n",
            "69639528-69638899\t\t69639528-69638899\t\t13720-14349\t\t13720-14349\t\t630\t\t630\t\t39504\n",
            "69599394-69599246\t\t69599394-69599246\t\t53854-54002\t\t53854-54002\t\t149\t\t149\t\t3996\n",
            "69595249-69595162\t\t69595249-69595162\t\t57999-58086\t\t57999-58086\t\t88\t\t88\t\t465\n",
            "69594696-69594477\t\t69594696-69594477\t\t58552-58771\t\t58552-58771\t\t220\t\t220\t\t4825\n",
            "69589651-69588417\t\t69589651-69589372\t\t63597-64831\t\t63597-63876\t\t1235\t\t280\n",
            "\n",
            "mRNA transcript variant 5 NM_001389565.1, 8 exons,  total annotated spliced exon length: 3283\n",
            "protein isoform 5 precursor NP_001376494.1, 7 coding  exons,  annotated AA length: 737\n",
            "\n",
            "Exon table for  mRNA  NM_001389565.1 and protein NP_001376494.1\n",
            "Genomic Interval Exon\t\tGenomic Interval Coding\t\tGene Interval Exon\t\tGene Interval Coding\t\tExon Length\tCoding Length\tIntron Length\n",
            "------------------------------------------------------------------------------------------------------------------------------------------------------------------------------\n",
            "69653247-69653188\t\t1-60\t\t60\t\t5489\n",
            "69647698-69646930\t\t69647644-69646930\t\t5550-6318\t\t5604-6318\t\t769\t\t715\t\t7401\n",
            "69639528-69638899\t\t69639528-69638899\t\t13720-14349\t\t13720-14349\t\t630\t\t630\t\t39504\n",
            "69599394-69599246\t\t69599394-69599246\t\t53854-54002\t\t53854-54002\t\t149\t\t149\t\t2864\n",
            "69596381-69596250\t\t69596381-69596250\t\t56867-56998\t\t56867-56998\t\t132\t\t132\t\t1000\n",
            "69595249-69595162\t\t69595249-69595162\t\t57999-58086\t\t57999-58086\t\t88\t\t88\t\t465\n",
            "69594696-69594477\t\t69594696-69594477\t\t58552-58771\t\t58552-58771\t\t220\t\t220\t\t4825\n",
            "69589651-69588417\t\t69589651-69589372\t\t63597-64831\t\t63597-63876\t\t1235\t\t280\n",
            "\n",
            "\n"
          ]
        }
      ]
    },
    {
      "cell_type": "code",
      "source": [
        "import requests\n",
        "from Bio import SeqIO\n",
        "from io import StringIO\n",
        "sequencia = str(requests.get(\"https://eutils.ncbi.nlm.nih.gov/entrez/eutils/efetch.fcgi?db=nucleotide&id=NM_001301239.2&rettype=fasta\").text)\n",
        "records = SeqIO.parse(StringIO(sequencia), \"fasta\")\n",
        "for seq_record in  records:\n",
        "    print(seq_record.id)\n",
        "    print(seq_record.seq)\n",
        "    print(len(seq_record))"
      ],
      "metadata": {
        "colab": {
          "base_uri": "https://localhost:8080/"
        },
        "id": "vA07RyqDxAh7",
        "outputId": "3e760605-0855-46df-d598-5c5cfd0ba0e1"
      },
      "execution_count": 93,
      "outputs": [
        {
          "output_type": "stream",
          "name": "stdout",
          "text": [
            "NM_001301239.2\n",
            "ACATTCGGCTTCTTCCTAATGTCAAATGAGTGCTGTTAAAGTTCCTCCAGGAAACTTCAGCAGAGAAAAACATTTGCTTCACATCTCATCAAATCTTCTGCATCAAGCCACATCATGTTAAACAACCTTCTGCTGTTCTCCCTTCAGATAAGTCTCATAGGAACCACTCTTGGTGGGAATGTTTTGATTTGGCCAATGGAAGGTAGTCATTGGCTAAATGTTAAGATAATTATAGATGAGCTCATTAAAAAGGAGCATAATGTGACTGTCCTAGTTGCCTCTGGTGCACTTTTCATCACACCAACCTCTAACCCATCTCTGACATTTGAAATATATAAGGTGCCCTTTGGCAAAGAAAGAATAGAAGGAGTAATTAAGGACTTCGTTTTGACATGGCTGGAAAATAGACCATCTCCTTCAACCATTTGGAGATTCTATCAGGAGATGGCCAAAGTAATCAAGGACTTCCACATGGTGTCTCAGGAGATCTGTGATGGCGTTCTTAAAAACCAACAGCTGATGGCAAAGCTAAAGAAAAGCAAGTTTGAAGTCCTGGTGTCTGATCCAGTATTTCCTTGTGGCGATATAGTAGCTTTAAAACTTGGAATTCCATTTATGTACTCCTTGAGGTTTTCTCCAGCCTCAACAGTGGAAAAGCACTGTGGGAAGGTACCATACCCTCCTTCCTATGTTCCTGCTGTTTTATCAGAACTCACCGACCAAATGTCTTTCACTGACAGAATAAGAAATTTCATCTCCTACCACCTACAGGACTACATGTTTGAAACTCTTTGGAAATCATGGGATTCATACTATAGTAAAGCTTTAGGAAGACCCACTACGTTATGTGAGACTATGGGGAAAGCTGAAATTTGGTTAATCCGAACATATTGGGATTTTGAATTTCCTCGTCCATACTTACCTAATTTTGAGTTTGTTGGAGGATTGCACTGCAAACCTGCCAAACCTTTACCTAAGGTTTTATGGAGATACAAAGGAAAGAAACCAGCCACATTAGGAAACAATACTCAGCTCTTTGATTGGATACCCCAGAATGATCTTCTTGGACATCCCAAAACCAAAGCTTTTATCACTCATGGTGGAACTAATGGGATCTACGAAGCTATTTACCACGGAGTCCCTATGGTGGGAGTTCCCATGTTTGCTGATCAGCCTGATAACATTGCTCACATGAAGGCCAAAGGAGCAGCTGTGGAAGTGAACCTAAACACAATGACAAGTGTGGATTTGCTTAGCGCTTTGAGAACAGTCATTAATGAACCTTCTTATAAAGAGAATGCTATGAGGTTATCAAGAATTCACCATGATCAACCTGTAAAGCCCCTGGATCGAGCAGTCTTCTGGATCGAGTTTGTCATGCGCCACAAAGGAGCCAAGCACCTTCGGGTTGCAGCCCATGACCTCACCTGGTTCCAGTACCACTCTTTGGATGTAATTGGGTTCTTGCTGGTCTGTGTGACAACGGCTATATTTTTGGTCATACAATGTTGTTTGTTTTCCTGTCAAAAATTTGGTAAGATAGGAAAGAAGAAAAAAAGAGAATAGGTCAAGAAAAAGAGGAAATATATATATTTTTAAGTTTGGCAAAATCCTGAGTAGTGTAGTCCTATTAATTCCAGACAAAAGGAGTTTAACAAAAACACGTCTCCCATCCTGTTTCCAAATTTTCTATTTCTCTACCTGCGATAAGCCTACTGATAAAGCCTAGATTTTGGCATGATTATTATTAACTTGTGAGTTATAGTCTTCTATTTTTCCTTTGTCTCTCCCTGCTGACTATACCCTCTTCCTGTCACTTTTCTGACACAAGGATACTACCTAATTTTAAATATGTTCTATTCATAGTATCAAATTATTTTATCGTTAACCTTAATTAATGATTAACAATATGCTGAATCCTGGTAATGCATACAGTGTAGATGGAATTTGATAGGTGTAAGGAAGAGTCAAATTCACAAATTTCCATATACCAAACAAATCAGGGAGCCACCGTAGGAGAGTAGTGTGTTATGAGAAAGGTAATGATTTCCTTTTTTAATAAAAACAAACTCTTCTGCTTGCTCAATGTTTCAGGAGTTAGAGAATGAATTTTAAGTGTGACGTGCGTCCCTATTAAATGTCTACAAAATTTTCATTAAGCATATCTAGAAAATCACGGCATAACTTGCCTGCCTTTCTTCAACATATATTCTTATATAACCTGTAGTGGAAGATTTGGGTACTGTCTTTAATAAATCAATCAATCGACTCTTTTATTTCAAGGAGAAAGTTCTATGTTATATGTTGAAGGTGAACAGATCATATTTAGAGGATATAACAATTAGAAATCTAGAAAATAATTATCATTTTTATAAAATTTTTAGTCAACTGTACAAATAATTACATAAAACATCAATTAATTATGCTTAAAAATCACTAATGTTCATAATATATAATCACTATTTGTAATCAAAAGTTTAATTTTATGCCAAAAAATAAAAAATGCTTACTTGGAATTTGA\n",
            "2521\n"
          ]
        }
      ]
    },
    {
      "cell_type": "markdown",
      "source": [
        "## Referencia NCBI: https://www.ncbi.nlm.nih.gov/books/NBK25501/\n",
        "\n",
        "## referência Biopython: http://biopython.org/DIST/docs/tutorial/Tutorial.html"
      ],
      "metadata": {
        "id": "A3FUGBW1wVLj"
      }
    }
  ]
}